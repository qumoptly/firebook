{
 "cells": [
  {
   "cell_type": "markdown",
   "metadata": {},
   "source": [
    "# Autograd Basics"
   ]
  },
  {
   "cell_type": "code",
   "execution_count": 68,
   "metadata": {},
   "outputs": [],
   "source": [
    "import torch\n",
    "import torch.nn as nn"
   ]
  },
  {
   "cell_type": "markdown",
   "metadata": {},
   "source": [
    "#### Example 1."
   ]
  },
  {
   "cell_type": "code",
   "execution_count": 73,
   "metadata": {},
   "outputs": [
    {
     "data": {
      "text/plain": [
       "tensor([0.5349], requires_grad=True)"
      ]
     },
     "execution_count": 73,
     "metadata": {},
     "output_type": "execute_result"
    }
   ],
   "source": [
    "x = torch.tensor(5., requires_grad=True)\n",
    "w = torch.randn(1, requires_grad=True)\n",
    "b = torch.tensor(1., requires_grad=True)"
   ]
  },
  {
   "cell_type": "code",
   "execution_count": 74,
   "metadata": {},
   "outputs": [],
   "source": [
    "# linear model\n",
    "y = x * w + b"
   ]
  },
  {
   "cell_type": "code",
   "execution_count": 75,
   "metadata": {},
   "outputs": [
    {
     "name": "stdout",
     "output_type": "stream",
     "text": [
      "model output: tensor([3.6745], grad_fn=<AddBackward0>)\n"
     ]
    }
   ],
   "source": [
    "print(f'model output: {y}')"
   ]
  },
  {
   "cell_type": "code",
   "execution_count": 76,
   "metadata": {},
   "outputs": [
    {
     "name": "stdout",
     "output_type": "stream",
     "text": [
      "tensor(0.5349)\n",
      "tensor([5.])\n",
      "tensor(1.)\n"
     ]
    }
   ],
   "source": [
    "y.backward()\n",
    "\n",
    "# Check out the gradients.\n",
    "print(x.grad)    # x.grad = some small number\n",
    "print(w.grad)    # w.grad = 5. \n",
    "print(b.grad)    # b.grad = 1. "
   ]
  },
  {
   "cell_type": "markdown",
   "metadata": {},
   "source": [
    "#### Example 2."
   ]
  },
  {
   "cell_type": "code",
   "execution_count": 81,
   "metadata": {},
   "outputs": [
    {
     "name": "stdout",
     "output_type": "stream",
     "text": [
      "w: Parameter containing:\n",
      "tensor([[-0.0565, -0.1768,  0.2492, -0.3562,  0.2826],\n",
      "        [-0.1735,  0.0068, -0.0884,  0.0542, -0.1351],\n",
      "        [ 0.3252, -0.0116,  0.3491,  0.4300, -0.2179]], requires_grad=True)\n",
      "b: Parameter containing:\n",
      "tensor([-0.3262,  0.3588,  0.3504], requires_grad=True)\n",
      "loss: 1.2915433645248413\n",
      "\n",
      "dL/dw: tensor([[ 0.0337,  0.0770,  0.1385, -0.2062,  0.4885],\n",
      "        [-0.2677,  0.2375,  0.0506, -0.0872,  0.0841],\n",
      "        [ 0.3297, -0.6058,  0.1905,  0.4978, -0.2701]])\n",
      "dL/db: tensor([ 0.0752, -0.1775,  0.3948])\n",
      "\n",
      "loss after one iteration: 1.276837944984436\n"
     ]
    }
   ],
   "source": [
    "# Create tensors of shape (5, 5) and (5, 2).\n",
    "x = torch.randn(5, 5)\n",
    "y = torch.randn(5, 3)\n",
    "\n",
    "# Build a fully connected layer.\n",
    "model = nn.Linear(5, 3)\n",
    "print (f'w: {model.weight}')\n",
    "print (f'b: {model.bias}')\n",
    "\n",
    "# Build loss function and optimizer.\n",
    "criterion = nn.MSELoss()\n",
    "optimizer = torch.optim.SGD(model.parameters(), lr=0.01)\n",
    "\n",
    "# Forward pass.\n",
    "pred = model(x)\n",
    "\n",
    "# Compute loss.\n",
    "loss = criterion(pred, y)\n",
    "print(f'loss: {loss.item()}\\n')\n",
    "\n",
    "# Backward pass.\n",
    "loss.backward()\n",
    "\n",
    "# Print out the gradients.\n",
    "print (f'dL/dw: {model.weight.grad}')\n",
    "print (f'dL/db: {model.bias.grad}\\n')\n",
    "\n",
    "# One step of gradient descent.\n",
    "optimizer.step()\n",
    "\n",
    "# Print out the loss after one step of gradient descent.\n",
    "pred = model(x)\n",
    "loss = criterion(pred, y)\n",
    "print(f'loss after one iteration: {loss.item()}')"
   ]
  },
  {
   "cell_type": "code",
   "execution_count": null,
   "metadata": {},
   "outputs": [],
   "source": []
  }
 ],
 "metadata": {
  "kernelspec": {
   "display_name": "Python 3",
   "language": "python",
   "name": "python3"
  },
  "language_info": {
   "codemirror_mode": {
    "name": "ipython",
    "version": 3
   },
   "file_extension": ".py",
   "mimetype": "text/x-python",
   "name": "python",
   "nbconvert_exporter": "python",
   "pygments_lexer": "ipython3",
   "version": "3.7.1"
  }
 },
 "nbformat": 4,
 "nbformat_minor": 2
}
