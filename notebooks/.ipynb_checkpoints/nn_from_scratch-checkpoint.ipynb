{
 "cells": [
  {
   "cell_type": "markdown",
   "metadata": {},
   "source": [
    "# Neural Network from Scratch"
   ]
  },
  {
   "cell_type": "code",
   "execution_count": 1,
   "metadata": {},
   "outputs": [],
   "source": [
    "import torch\n",
    "import torch.nn as nn\n",
    "\n",
    "import numpy as np"
   ]
  },
  {
   "cell_type": "markdown",
   "metadata": {},
   "source": [
    "## Create a logical XOR Dataset."
   ]
  },
  {
   "cell_type": "code",
   "execution_count": 146,
   "metadata": {},
   "outputs": [],
   "source": [
    "# Training data for XOR.\n",
    "x = torch.tensor([[0, 0], [0, 1], [1, 0], [1, 1]], dtype=dtype)\n",
    "y = torch.tensor([[0], [1], [1], [0]], dtype=dtype)"
   ]
  },
  {
   "cell_type": "markdown",
   "metadata": {},
   "source": [
    "## Define Model class and activation function"
   ]
  },
  {
   "cell_type": "code",
   "execution_count": 147,
   "metadata": {},
   "outputs": [],
   "source": [
    "class Sigmoid:\n",
    "    \"\"\"Standard Sigmoid function.\n",
    "    \n",
    "    Our forward function is the normal sigmoid()\n",
    "    Our backward function is the functions' derivative.\n",
    "    These names are just used to clarify when we use them \n",
    "    in our neural network.\n",
    "    \"\"\"\n",
    "    def forward(self, s):\n",
    "        return 1 / (1 + torch.exp(-s))\n",
    "    \n",
    "    def backward(self, s):\n",
    "        \"\"\"Derivative of the Sigmoid function.\"\"\"\n",
    "        return s * (1 - s)\n",
    "    "
   ]
  },
  {
   "cell_type": "code",
   "execution_count": 148,
   "metadata": {},
   "outputs": [],
   "source": [
    "class MultiLayerPerceptron(nn.Module):\n",
    "    \n",
    "    def __init__(self, input_size, hidden_size, num_classes):\n",
    "        super(MultiLayerPerceptron, self).__init__()\n",
    "        \n",
    "        # weights\n",
    "        self.W1 = torch.randn(input_size, hidden_size)\n",
    "        self.W2 = torch.randn(hidden_size, num_classes)\n",
    "        self.sigmoid = Sigmoid()\n",
    "        \n",
    "    def forward(self, x):\n",
    "        self.z = torch.matmul(x, self.W1)\n",
    "        self.z2 = self.sigmoid.forward(self.z)\n",
    "        self.z3 = torch.matmul(self.z2, self.W2)\n",
    "        out = self.sigmoid.forward(self.z3)\n",
    "        return out\n",
    "    \n",
    "    def backward(self, x, y, logits):\n",
    "        self.error = y - logits\n",
    "        self.logits_delta = self.error * self.sigmoid.backward(logits)\n",
    "        self.z2_error = torch.matmul(self.logits_delta, torch.t(self.W2))\n",
    "        self.z2_delta = self.z2_error * self.sigmoid.backward(self.z2)\n",
    "        self.W1 += torch.matmul(torch.t(x), self.z2_delta)\n",
    "        self.W2 += torch.matmul(torch.t(self.z2), self.logits_delta)\n",
    "        \n",
    "    def train(self, x, y):\n",
    "        logits = self.forward(x)\n",
    "        self.backward(x, y, logits)"
   ]
  },
  {
   "cell_type": "code",
   "execution_count": 149,
   "metadata": {},
   "outputs": [],
   "source": [
    "criterion = nn.BCELoss()"
   ]
  },
  {
   "cell_type": "code",
   "execution_count": 150,
   "metadata": {},
   "outputs": [],
   "source": [
    "torch.manual_seed(42)\n",
    "m = MultiLayerPerceptron(2,3,1)"
   ]
  },
  {
   "cell_type": "code",
   "execution_count": 151,
   "metadata": {},
   "outputs": [],
   "source": [
    "def predict(model):\n",
    "    \"\"\"Get probability for each example.\"\"\"\n",
    "    pred00 = model.forward(torch.tensor([0., 0.]))\n",
    "    pred10 = model.forward(torch.tensor([1., 0.]))\n",
    "    pred01 = model.forward(torch.tensor([0., 1.]))\n",
    "    pred11 = model.forward(torch.tensor([1., 1.]))\n",
    "    print(f\"Prediction (0, 0): {pred00.item():.4f}\")\n",
    "    print(f\"Prediction (1, 0): {pred10.item():.4f}\")\n",
    "    print(f\"Prediction (0, 1): {pred01.item():.4f}\")\n",
    "    print(f\"Prediction (1, 1): {pred11.item():.4f}\")"
   ]
  },
  {
   "cell_type": "markdown",
   "metadata": {},
   "source": [
    "#### Predictions of the untrained model"
   ]
  },
  {
   "cell_type": "code",
   "execution_count": 152,
   "metadata": {},
   "outputs": [
    {
     "name": "stdout",
     "output_type": "stream",
     "text": [
      "Prediction (0, 0): 0.7342\n",
      "Prediction (1, 0): 0.7697\n",
      "Prediction (0, 1): 0.7830\n",
      "Prediction (1, 1): 0.8135\n"
     ]
    }
   ],
   "source": [
    "predict(m)"
   ]
  },
  {
   "cell_type": "markdown",
   "metadata": {},
   "source": [
    "#### Train the model"
   ]
  },
  {
   "cell_type": "code",
   "execution_count": 153,
   "metadata": {},
   "outputs": [
    {
     "name": "stdout",
     "output_type": "stream",
     "text": [
      "Epoch 0 Loss: 0.8776814937591553\n",
      "Epoch 100 Loss: 0.6921769380569458\n",
      "Epoch 200 Loss: 0.6642870903015137\n",
      "Epoch 300 Loss: 0.5447524189949036\n",
      "Epoch 400 Loss: 0.46475857496261597\n",
      "Epoch 500 Loss: 0.39084798097610474\n",
      "Epoch 600 Loss: 0.29854053258895874\n",
      "Epoch 700 Loss: 0.23162132501602173\n",
      "Epoch 800 Loss: 0.19186855852603912\n",
      "Epoch 900 Loss: 0.1660829782485962\n",
      "Epoch 1000 Loss: 0.14787650108337402\n",
      "Epoch 1100 Loss: 0.13422730565071106\n",
      "Epoch 1200 Loss: 0.12354548275470734\n",
      "Epoch 1300 Loss: 0.1149139553308487\n",
      "Epoch 1400 Loss: 0.10776462405920029\n",
      "Epoch 1500 Loss: 0.10172554105520248\n",
      "Epoch 1600 Loss: 0.09654226899147034\n",
      "Epoch 1700 Loss: 0.09203418344259262\n",
      "Epoch 1800 Loss: 0.08806922286748886\n",
      "Epoch 1900 Loss: 0.08454888314008713\n"
     ]
    }
   ],
   "source": [
    "for i in range(2000):\n",
    "    if i % 100 == 0:\n",
    "        loss = criterion(m(x), y)\n",
    "        print (f\"Epoch {i} Loss: {loss}\")\n",
    "    m.train(x, y)"
   ]
  },
  {
   "cell_type": "markdown",
   "metadata": {},
   "source": [
    "#### Predictions of the trained model"
   ]
  },
  {
   "cell_type": "code",
   "execution_count": 154,
   "metadata": {},
   "outputs": [
    {
     "name": "stdout",
     "output_type": "stream",
     "text": [
      "Prediction (0, 0): 0.0581\n",
      "Prediction (1, 0): 0.9210\n",
      "Prediction (0, 1): 0.9029\n",
      "Prediction (1, 1): 0.0781\n"
     ]
    }
   ],
   "source": [
    "predict(m)"
   ]
  },
  {
   "cell_type": "code",
   "execution_count": null,
   "metadata": {},
   "outputs": [],
   "source": []
  }
 ],
 "metadata": {
  "kernelspec": {
   "display_name": "Python 3",
   "language": "python",
   "name": "python3"
  },
  "language_info": {
   "codemirror_mode": {
    "name": "ipython",
    "version": 3
   },
   "file_extension": ".py",
   "mimetype": "text/x-python",
   "name": "python",
   "nbconvert_exporter": "python",
   "pygments_lexer": "ipython3",
   "version": "3.7.1"
  }
 },
 "nbformat": 4,
 "nbformat_minor": 2
}
